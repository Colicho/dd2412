{
 "cells": [
  {
   "cell_type": "code",
   "execution_count": 1,
   "metadata": {},
   "outputs": [],
   "source": [
    "test = 12\n",
    "# test commit"
   ]
  }
 ],
 "metadata": {
  "interpreter": {
   "hash": "46365b3b5abda09e6d0eeef4155351a2a2f3c1b0c7d1c9bde400ceb03d87dd98"
  },
  "kernelspec": {
   "display_name": "dladkernel",
   "language": "python",
   "name": "dladkernel"
  },
  "language_info": {
   "codemirror_mode": {
    "name": "ipython",
    "version": 3
   },
   "file_extension": ".py",
   "mimetype": "text/x-python",
   "name": "python",
   "nbconvert_exporter": "python",
   "pygments_lexer": "ipython3",
   "version": "3.8.18"
  }
 },
 "nbformat": 4,
 "nbformat_minor": 4
}
