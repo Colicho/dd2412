{
 "cells": [
  {
   "cell_type": "code",
   "execution_count": 1,
   "metadata": {},
   "outputs": [],
   "source": [
    "test = 1"
   ]
  }
 ],
 "metadata": {
  "interpreter": {
   "hash": "46365b3b5abda09e6d0eeef4155351a2a2f3c1b0c7d1c9bde400ceb03d87dd98"
  },
  "kernelspec": {
   "display_name": "Python 3.10.8 ('myenvi': venv)",
   "language": "python",
   "name": "python3"
  },
  "language_info": {
   "codemirror_mode": {
    "name": "ipython",
    "version": 3
   },
   "file_extension": ".py",
   "mimetype": "text/x-python",
   "name": "python",
   "nbconvert_exporter": "python",
   "pygments_lexer": "ipython3",
   "version": "3.10.8"
  },
  "orig_nbformat": 4
 },
 "nbformat": 4,
 "nbformat_minor": 2
}
